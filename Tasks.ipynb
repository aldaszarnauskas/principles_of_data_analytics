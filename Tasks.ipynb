{
 "cells": [
  {
   "cell_type": "code",
   "execution_count": 4,
   "id": "6cabff84",
   "metadata": {},
   "outputs": [],
   "source": [
    "# Load the required packages\n",
    "import numpy as np, scipy as sc, matplotlib as plt, seaborn as sns, pandas as pd, statsmodels as sm, sklearn as sk"
   ]
  },
  {
   "cell_type": "markdown",
   "id": "e5134955",
   "metadata": {},
   "source": [
    "# Task 1: Source the Data Set\n",
    "1. Import the Iris data set from the sklearn.datasets module.\n",
    "2. Explain, in your own words, what the load_iris() function returns."
   ]
  },
  {
   "cell_type": "code",
   "execution_count": 9,
   "id": "6f831bd3",
   "metadata": {},
   "outputs": [],
   "source": [
    "# Save the iris dataset in the iris object\n",
    "iris = sk.datasets.load_iris()"
   ]
  },
  {
   "cell_type": "code",
   "execution_count": 20,
   "id": "7425ccb9",
   "metadata": {},
   "outputs": [
    {
     "data": {
      "text/plain": [
       "dict_keys(['data', 'target', 'frame', 'target_names', 'DESCR', 'feature_names', 'filename', 'data_module'])"
      ]
     },
     "execution_count": 20,
     "metadata": {},
     "output_type": "execute_result"
    }
   ],
   "source": [
    "iris.keys()"
   ]
  },
  {
   "cell_type": "markdown",
   "id": "d8a6a9bd",
   "metadata": {},
   "source": [
    "The load_iris() function returns a dictionary-like object which contains multiple obkects, including: the iris dataset and the metadata of the dataset. This keys of this object are 'data', 'target', 'frame', 'target_names', 'DESCR', 'feature_names', 'filename', 'data_module'."
   ]
  },
  {
   "cell_type": "markdown",
   "id": "e602baaf",
   "metadata": {},
   "source": [
    "# Task 2: Explore the Data Structure\n",
    "Print and explain the shape of the data set, the first and last 5 rows of the data, the feature names, and the target classes."
   ]
  },
  {
   "cell_type": "code",
   "execution_count": 21,
   "id": "744d6e70",
   "metadata": {},
   "outputs": [
    {
     "data": {
      "text/plain": [
       "(150, 4)"
      ]
     },
     "execution_count": 21,
     "metadata": {},
     "output_type": "execute_result"
    }
   ],
   "source": [
    "iris.data.shape"
   ]
  },
  {
   "cell_type": "markdown",
   "id": "4bdce422",
   "metadata": {},
   "source": [
    "The Iris dataset contains 150 rows (each sample is in a separate row) and 4 collums (each collumn corresponds to sepal length, sepal width, petal length and petal width)."
   ]
  },
  {
   "cell_type": "code",
   "execution_count": 24,
   "id": "f3280ed5",
   "metadata": {
    "scrolled": true
   },
   "outputs": [
    {
     "data": {
      "text/plain": [
       "array([[5.1, 3.5, 1.4, 0.2],\n",
       "       [4.9, 3. , 1.4, 0.2],\n",
       "       [4.7, 3.2, 1.3, 0.2],\n",
       "       [4.6, 3.1, 1.5, 0.2],\n",
       "       [5. , 3.6, 1.4, 0.2]])"
      ]
     },
     "execution_count": 24,
     "metadata": {},
     "output_type": "execute_result"
    }
   ],
   "source": [
    "iris.data[0:5,]"
   ]
  },
  {
   "cell_type": "markdown",
   "id": "60625192",
   "metadata": {},
   "source": [
    "The dataset above contains info about sepal length, sepal width, petal length and petal width for the first 5 samples in the dataset."
   ]
  },
  {
   "cell_type": "code",
   "execution_count": 32,
   "id": "046c7418",
   "metadata": {
    "scrolled": true
   },
   "outputs": [
    {
     "data": {
      "text/plain": [
       "array([[6.7, 3. , 5.2, 2.3],\n",
       "       [6.3, 2.5, 5. , 1.9],\n",
       "       [6.5, 3. , 5.2, 2. ],\n",
       "       [6.2, 3.4, 5.4, 2.3],\n",
       "       [5.9, 3. , 5.1, 1.8]])"
      ]
     },
     "execution_count": 32,
     "metadata": {},
     "output_type": "execute_result"
    }
   ],
   "source": [
    "iris.data[-5:len(iris.data),]"
   ]
  },
  {
   "cell_type": "markdown",
   "id": "65251584",
   "metadata": {},
   "source": [
    "The dataset above contains info about sepal length, sepal width, petal length and petal width for the last 5 samples in the dataset."
   ]
  },
  {
   "cell_type": "code",
   "execution_count": 33,
   "id": "c8642b82",
   "metadata": {
    "scrolled": true
   },
   "outputs": [
    {
     "data": {
      "text/plain": [
       "['sepal length (cm)',\n",
       " 'sepal width (cm)',\n",
       " 'petal length (cm)',\n",
       " 'petal width (cm)']"
      ]
     },
     "execution_count": 33,
     "metadata": {},
     "output_type": "execute_result"
    }
   ],
   "source": [
    "iris.feature_names"
   ]
  },
  {
   "cell_type": "markdown",
   "id": "a2c30b50",
   "metadata": {},
   "source": [
    "The feature_names object gives the explanation what does each collumn in the dataset represents."
   ]
  },
  {
   "cell_type": "code",
   "execution_count": 35,
   "id": "edf32c4f",
   "metadata": {},
   "outputs": [
    {
     "data": {
      "text/plain": [
       "array(['setosa', 'versicolor', 'virginica'], dtype='<U10')"
      ]
     },
     "execution_count": 35,
     "metadata": {},
     "output_type": "execute_result"
    }
   ],
   "source": [
    "iris.target_names"
   ]
  },
  {
   "cell_type": "markdown",
   "id": "24050d57",
   "metadata": {},
   "source": [
    "The target_names shows what sample types are present in the dataset."
   ]
  },
  {
   "cell_type": "code",
   "execution_count": null,
   "id": "fe433a5c",
   "metadata": {},
   "outputs": [],
   "source": []
  }
 ],
 "metadata": {
  "kernelspec": {
   "display_name": "podn_venv",
   "language": "python",
   "name": "podn_venv"
  },
  "language_info": {
   "codemirror_mode": {
    "name": "ipython",
    "version": 3
   },
   "file_extension": ".py",
   "mimetype": "text/x-python",
   "name": "python",
   "nbconvert_exporter": "python",
   "pygments_lexer": "ipython3",
   "version": "3.12.3"
  }
 },
 "nbformat": 4,
 "nbformat_minor": 5
}
