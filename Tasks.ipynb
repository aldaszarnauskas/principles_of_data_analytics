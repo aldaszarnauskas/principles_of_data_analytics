{
 "cells": [
  {
   "cell_type": "code",
   "execution_count": 2,
   "id": "f14e2fce",
   "metadata": {},
   "outputs": [],
   "source": [
    "# Load the required packages\n",
    "import numpy as np\n",
    "import scipy as sc\n",
    "import matplotlib as plt\n",
    "import seaborn as sns\n",
    "import pandas as pd\n",
    "import statsmodels as sm\n",
    "import sklearn as sk"
   ]
  },
  {
   "cell_type": "markdown",
   "id": "240113a3",
   "metadata": {},
   "source": [
    "## Resources\n",
    "\n",
    "Task 1\n",
    "https://scikit-learn.org/1.4/auto_examples/datasets/plot_iris_dataset.html\n",
    "\n",
    "Task 2\n",
    "https://pandas.pydata.org/docs/reference/api/pandas.DataFrame.shape.html,  \n",
    "https://scikit-learn.org/stable/modules/generated/sklearn.datasets.load_iris.html,  \n",
    "\n",
    "\n",
    "Task 3\n",
    "https://numpy.org/doc/2.2/reference/arrays.ndarray.html\n",
    "https://www.datacamp.com/tutorial/python-dictionary-append\n",
    "https://numpy.org/doc/2.1/reference/generated/numpy.median.html\n",
    "https://docs.python.org/3/library/functions.html\n",
    "https://docs.python.org/3/tutorial/inputoutput.html\n",
    "\n"
   ]
  },
  {
   "cell_type": "markdown",
   "id": "ca54e07c",
   "metadata": {},
   "source": [
    "# Task 1: Source the Data Set\n",
    "1. Import the Iris data set from the sklearn.datasets module.\n",
    "2. Explain, in your own words, what the load_iris() function returns."
   ]
  },
  {
   "cell_type": "code",
   "execution_count": 3,
   "id": "298f6f52",
   "metadata": {},
   "outputs": [],
   "source": [
    "# Save the iris dataset in the iris object\n",
    "iris = sk.datasets.load_iris()"
   ]
  },
  {
   "cell_type": "code",
   "execution_count": 4,
   "id": "a620dd77",
   "metadata": {},
   "outputs": [
    {
     "data": {
      "text/plain": [
       "dict_keys(['data', 'target', 'frame', 'target_names', 'DESCR', 'feature_names', 'filename', 'data_module'])"
      ]
     },
     "execution_count": 4,
     "metadata": {},
     "output_type": "execute_result"
    }
   ],
   "source": [
    "iris.keys()"
   ]
  },
  {
   "cell_type": "markdown",
   "id": "1a293832",
   "metadata": {},
   "source": [
    "The load_iris() function returns a dictionary-like object which contains multiple obkects, including: the iris dataset and the metadata of the dataset. This keys of this object are 'data', 'target', 'frame', 'target_names', 'DESCR', 'feature_names', 'filename', 'data_module'."
   ]
  },
  {
   "cell_type": "markdown",
   "id": "8a9ee225",
   "metadata": {},
   "source": [
    "# Task 2: Explore the Data Structure\n",
    "Print and explain the shape of the data set, the first and last 5 rows of the data, the feature names, and the target classes."
   ]
  },
  {
   "cell_type": "code",
   "execution_count": 5,
   "id": "05a6e82f",
   "metadata": {},
   "outputs": [
    {
     "data": {
      "text/plain": [
       "(150, 4)"
      ]
     },
     "execution_count": 5,
     "metadata": {},
     "output_type": "execute_result"
    }
   ],
   "source": [
    "# Display the shape of the Iris data\n",
    "iris.data.shape"
   ]
  },
  {
   "cell_type": "markdown",
   "id": "300eb2ec",
   "metadata": {},
   "source": [
    "The Iris dataset contains 150 rows (each sample is in a separate row) and 4 collums (each collumn corresponds to sepal length, sepal width, petal length and petal width)."
   ]
  },
  {
   "cell_type": "code",
   "execution_count": 6,
   "id": "d9c7359f",
   "metadata": {
    "scrolled": true
   },
   "outputs": [
    {
     "data": {
      "text/plain": [
       "array([[5.1, 3.5, 1.4, 0.2],\n",
       "       [4.9, 3. , 1.4, 0.2],\n",
       "       [4.7, 3.2, 1.3, 0.2],\n",
       "       [4.6, 3.1, 1.5, 0.2],\n",
       "       [5. , 3.6, 1.4, 0.2]])"
      ]
     },
     "execution_count": 6,
     "metadata": {},
     "output_type": "execute_result"
    }
   ],
   "source": [
    "# Display the first 5 rows\n",
    "iris.data[0:5,]"
   ]
  },
  {
   "cell_type": "markdown",
   "id": "f98f78ab",
   "metadata": {},
   "source": [
    "The dataset above contains info about sepal length, sepal width, petal length and petal width for the first 5 samples in the dataset."
   ]
  },
  {
   "cell_type": "code",
   "execution_count": 7,
   "id": "10b21af9",
   "metadata": {
    "scrolled": true
   },
   "outputs": [
    {
     "data": {
      "text/plain": [
       "array([[6.7, 3. , 5.2, 2.3],\n",
       "       [6.3, 2.5, 5. , 1.9],\n",
       "       [6.5, 3. , 5.2, 2. ],\n",
       "       [6.2, 3.4, 5.4, 2.3],\n",
       "       [5.9, 3. , 5.1, 1.8]])"
      ]
     },
     "execution_count": 7,
     "metadata": {},
     "output_type": "execute_result"
    }
   ],
   "source": [
    "# Display the last five rows\n",
    "iris.data[-5:len(iris.data),]"
   ]
  },
  {
   "cell_type": "markdown",
   "id": "5fd4b7c7",
   "metadata": {},
   "source": [
    "The dataset above contains info about sepal length, sepal width, petal length and petal width for the last 5 samples in the dataset."
   ]
  },
  {
   "cell_type": "code",
   "execution_count": 8,
   "id": "940b2c7c",
   "metadata": {
    "scrolled": true
   },
   "outputs": [
    {
     "data": {
      "text/plain": [
       "['sepal length (cm)',\n",
       " 'sepal width (cm)',\n",
       " 'petal length (cm)',\n",
       " 'petal width (cm)']"
      ]
     },
     "execution_count": 8,
     "metadata": {},
     "output_type": "execute_result"
    }
   ],
   "source": [
    "# Display the feature names\n",
    "iris.feature_names"
   ]
  },
  {
   "cell_type": "markdown",
   "id": "f33069e6",
   "metadata": {},
   "source": [
    "The feature_names object gives the explanation what does each collumn in the dataset represents."
   ]
  },
  {
   "cell_type": "code",
   "execution_count": 9,
   "id": "b6233a97",
   "metadata": {},
   "outputs": [
    {
     "data": {
      "text/plain": [
       "array(['setosa', 'versicolor', 'virginica'], dtype='<U10')"
      ]
     },
     "execution_count": 9,
     "metadata": {},
     "output_type": "execute_result"
    }
   ],
   "source": [
    "# Display the sample types in the dataset\n",
    "iris.target_names"
   ]
  },
  {
   "cell_type": "markdown",
   "id": "ec20d616",
   "metadata": {},
   "source": [
    "The target_names shows what sample types are present in the dataset."
   ]
  },
  {
   "cell_type": "markdown",
   "id": "b8c71732",
   "metadata": {},
   "source": [
    "# Task 3: Summarize the Data\n",
    "For each feature in the dataset, calculate and display:  \n",
    "**mean  \n",
    "minimum  \n",
    "maximum  \n",
    "standard deviation  \n",
    "median**  "
   ]
  },
  {
   "cell_type": "code",
   "execution_count": 53,
   "id": "7d768c17",
   "metadata": {},
   "outputs": [],
   "source": [
    "# Transpose the iris dataset to separate the values of each feature in a separate list\n",
    "iris_transposed = iris.data.transpose()\n",
    "\n",
    "# Store the values of each feature in separate objects\n",
    "sepal_length_list = iris_transposed[0]\n",
    "sepal_width_list = iris_transposed[1]\n",
    "petal_length_list = iris_transposed[2]\n",
    "petal_width_list = iris_transposed[3]"
   ]
  },
  {
   "cell_type": "code",
   "execution_count": 67,
   "id": "f1c27192",
   "metadata": {},
   "outputs": [],
   "source": [
    "# Calculate summary statistics of the dataset and store in the dictionary\n",
    "def summary_statistics(dataset):\n",
    "\n",
    "    # Create empty dictionary to store summary stats\n",
    "    adict = {}\n",
    "\n",
    "    # Compute summary stats and store in the dictionary\n",
    "    adict[\"mean\"] = round(dataset.mean(), 2)\n",
    "    adict[\"standard_deviation\"] = round(dataset.std(), 2)\n",
    "    adict[\"minima\"] = round(dataset.min(), 2)\n",
    "    adict[\"maximum\"] = round(dataset.max(), 2)\n",
    "    adict[\"median\"] = round(np.median(dataset), 2)\n",
    "\n",
    "    return(adict)\n"
   ]
  },
  {
   "cell_type": "code",
   "execution_count": 68,
   "id": "c73c2ffb",
   "metadata": {},
   "outputs": [],
   "source": [
    "#Compute summary stats of each feature\n",
    "slength_sum_stats = summary_statistics(sepal_length_list)\n",
    "swidth_sum_stats = summary_statistics(sepal_width_list)\n",
    "plength_sum_stats = summary_statistics(petal_length_list)\n",
    "pwidth_sum_stats = summary_statistics(petal_width_list)"
   ]
  },
  {
   "cell_type": "code",
   "execution_count": 71,
   "id": "c7cc51b2",
   "metadata": {},
   "outputs": [],
   "source": [
    "# show_sum_stats prints summary statistics of a feature\n",
    "# while using values stored in the dictionary\n",
    "def show_sum_stats(feature_name, adict):\n",
    "    \n",
    "    print(f'''\n",
    "Summary statistics of a {feature_name}\n",
    "Mean: {adict[\"mean\"]}\n",
    "Standard deviation: {adict[\"standard_deviation\"]}\n",
    "Minima: {adict[\"minima\"]}\n",
    "Maxima: {adict[\"maximum\"]}\n",
    "Median: {adict[\"median\"]}\n",
    "        ''')"
   ]
  },
  {
   "cell_type": "code",
   "execution_count": 72,
   "id": "f2c0b7b2",
   "metadata": {},
   "outputs": [
    {
     "name": "stdout",
     "output_type": "stream",
     "text": [
      "\n",
      "Summary statistics of a sepal length\n",
      "Mean: 5.84\n",
      "Standard deviation: 0.83\n",
      "Minima: 4.3\n",
      "Maxima: 7.9\n",
      "Median: 5.8\n",
      "        \n"
     ]
    }
   ],
   "source": [
    "show_sum_stats(\"sepal length\", slength_sum_stats)"
   ]
  },
  {
   "cell_type": "code",
   "execution_count": 73,
   "id": "01c2ad5a",
   "metadata": {},
   "outputs": [
    {
     "name": "stdout",
     "output_type": "stream",
     "text": [
      "\n",
      "Summary statistics of a sepal width\n",
      "Mean: 3.06\n",
      "Standard deviation: 0.43\n",
      "Minima: 2.0\n",
      "Maxima: 4.4\n",
      "Median: 3.0\n",
      "        \n"
     ]
    }
   ],
   "source": [
    "show_sum_stats(\"sepal width\", swidth_sum_stats)"
   ]
  },
  {
   "cell_type": "code",
   "execution_count": 74,
   "id": "694318d6",
   "metadata": {},
   "outputs": [
    {
     "name": "stdout",
     "output_type": "stream",
     "text": [
      "\n",
      "Summary statistics of a petal length\n",
      "Mean: 3.76\n",
      "Standard deviation: 1.76\n",
      "Minima: 1.0\n",
      "Maxima: 6.9\n",
      "Median: 4.35\n",
      "        \n"
     ]
    }
   ],
   "source": [
    "show_sum_stats(\"petal length\", plength_sum_stats)"
   ]
  },
  {
   "cell_type": "code",
   "execution_count": 75,
   "id": "567a6c72",
   "metadata": {},
   "outputs": [
    {
     "name": "stdout",
     "output_type": "stream",
     "text": [
      "\n",
      "Summary statistics of a petal width\n",
      "Mean: 1.2\n",
      "Standard deviation: 0.76\n",
      "Minima: 0.1\n",
      "Maxima: 2.5\n",
      "Median: 1.3\n",
      "        \n"
     ]
    }
   ],
   "source": [
    "show_sum_stats(\"petal width\", pwidth_sum_stats)"
   ]
  },
  {
   "cell_type": "code",
   "execution_count": null,
   "id": "739ed339",
   "metadata": {},
   "outputs": [],
   "source": []
  }
 ],
 "metadata": {
  "kernelspec": {
   "display_name": "Python 3",
   "language": "python",
   "name": "python3"
  },
  "language_info": {
   "codemirror_mode": {
    "name": "ipython",
    "version": 3
   },
   "file_extension": ".py",
   "mimetype": "text/x-python",
   "name": "python",
   "nbconvert_exporter": "python",
   "pygments_lexer": "ipython3",
   "version": "3.12.1"
  }
 },
 "nbformat": 4,
 "nbformat_minor": 5
}
