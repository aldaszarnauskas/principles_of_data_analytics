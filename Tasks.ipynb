{
 "cells": [
  {
   "cell_type": "code",
   "execution_count": 4,
   "id": "f14e2fce",
   "metadata": {},
   "outputs": [],
   "source": [
    "# Load the required packages\n",
    "import numpy as np, scipy as sc, matplotlib as plt, seaborn as sns, pandas as pd, statsmodels as sm, sklearn as sk"
   ]
  },
  {
   "cell_type": "markdown",
   "id": "ca54e07c",
   "metadata": {},
   "source": [
    "# Task 1: Source the Data Set\n",
    "1. Import the Iris data set from the sklearn.datasets module.\n",
    "2. Explain, in your own words, what the load_iris() function returns."
   ]
  },
  {
   "cell_type": "code",
   "execution_count": 9,
   "id": "298f6f52",
   "metadata": {},
   "outputs": [],
   "source": [
    "# Save the iris dataset in the iris object\n",
    "iris = sk.datasets.load_iris()"
   ]
  },
  {
   "cell_type": "code",
   "execution_count": 20,
   "id": "a620dd77",
   "metadata": {},
   "outputs": [
    {
     "data": {
      "text/plain": [
       "dict_keys(['data', 'target', 'frame', 'target_names', 'DESCR', 'feature_names', 'filename', 'data_module'])"
      ]
     },
     "execution_count": 20,
     "metadata": {},
     "output_type": "execute_result"
    }
   ],
   "source": [
    "iris.keys()"
   ]
  },
  {
   "cell_type": "markdown",
   "id": "1a293832",
   "metadata": {},
   "source": [
    "The load_iris() function returns a dictionary-like object which contains multiple obkects, including: the iris dataset and the metadata of the dataset. This keys of this object are 'data', 'target', 'frame', 'target_names', 'DESCR', 'feature_names', 'filename', 'data_module'."
   ]
  },
  {
   "cell_type": "markdown",
   "id": "8a9ee225",
   "metadata": {},
   "source": [
    "# Task 2: Explore the Data Structure\n",
    "Print and explain the shape of the data set, the first and last 5 rows of the data, the feature names, and the target classes."
   ]
  },
  {
   "cell_type": "code",
   "execution_count": 21,
   "id": "05a6e82f",
   "metadata": {},
   "outputs": [
    {
     "data": {
      "text/plain": [
       "(150, 4)"
      ]
     },
     "execution_count": 21,
     "metadata": {},
     "output_type": "execute_result"
    }
   ],
   "source": [
    "# Display the shape of the Iris data\n",
    "iris.data.shape"
   ]
  },
  {
   "cell_type": "markdown",
   "id": "300eb2ec",
   "metadata": {},
   "source": [
    "The Iris dataset contains 150 rows (each sample is in a separate row) and 4 collums (each collumn corresponds to sepal length, sepal width, petal length and petal width)."
   ]
  },
  {
   "cell_type": "code",
   "execution_count": 24,
   "id": "d9c7359f",
   "metadata": {
    "scrolled": true
   },
   "outputs": [
    {
     "data": {
      "text/plain": [
       "array([[5.1, 3.5, 1.4, 0.2],\n",
       "       [4.9, 3. , 1.4, 0.2],\n",
       "       [4.7, 3.2, 1.3, 0.2],\n",
       "       [4.6, 3.1, 1.5, 0.2],\n",
       "       [5. , 3.6, 1.4, 0.2]])"
      ]
     },
     "execution_count": 24,
     "metadata": {},
     "output_type": "execute_result"
    }
   ],
   "source": [
    "# Display the first 5 rows\n",
    "iris.data[0:5,]"
   ]
  },
  {
   "cell_type": "markdown",
   "id": "f98f78ab",
   "metadata": {},
   "source": [
    "The dataset above contains info about sepal length, sepal width, petal length and petal width for the first 5 samples in the dataset."
   ]
  },
  {
   "cell_type": "code",
   "execution_count": 32,
   "id": "10b21af9",
   "metadata": {
    "scrolled": true
   },
   "outputs": [
    {
     "data": {
      "text/plain": [
       "array([[6.7, 3. , 5.2, 2.3],\n",
       "       [6.3, 2.5, 5. , 1.9],\n",
       "       [6.5, 3. , 5.2, 2. ],\n",
       "       [6.2, 3.4, 5.4, 2.3],\n",
       "       [5.9, 3. , 5.1, 1.8]])"
      ]
     },
     "execution_count": 32,
     "metadata": {},
     "output_type": "execute_result"
    }
   ],
   "source": [
    "# Display the last five rows\n",
    "iris.data[-5:len(iris.data),]"
   ]
  },
  {
   "cell_type": "markdown",
   "id": "5fd4b7c7",
   "metadata": {},
   "source": [
    "The dataset above contains info about sepal length, sepal width, petal length and petal width for the last 5 samples in the dataset."
   ]
  },
  {
   "cell_type": "code",
   "execution_count": 33,
   "id": "940b2c7c",
   "metadata": {
    "scrolled": true
   },
   "outputs": [
    {
     "data": {
      "text/plain": [
       "['sepal length (cm)',\n",
       " 'sepal width (cm)',\n",
       " 'petal length (cm)',\n",
       " 'petal width (cm)']"
      ]
     },
     "execution_count": 33,
     "metadata": {},
     "output_type": "execute_result"
    }
   ],
   "source": [
    "# Display the feature names\n",
    "iris.feature_names"
   ]
  },
  {
   "cell_type": "markdown",
   "id": "f33069e6",
   "metadata": {},
   "source": [
    "The feature_names object gives the explanation what does each collumn in the dataset represents."
   ]
  },
  {
   "cell_type": "code",
   "execution_count": 35,
   "id": "b6233a97",
   "metadata": {},
   "outputs": [
    {
     "data": {
      "text/plain": [
       "array(['setosa', 'versicolor', 'virginica'], dtype='<U10')"
      ]
     },
     "execution_count": 35,
     "metadata": {},
     "output_type": "execute_result"
    }
   ],
   "source": [
    "# Display the sample types in the dataset\n",
    "iris.target_names"
   ]
  },
  {
   "cell_type": "markdown",
   "id": "ec20d616",
   "metadata": {},
   "source": [
    "The target_names shows what sample types are present in the dataset."
   ]
  },
  {
   "cell_type": "markdown",
   "id": "b8c71732",
   "metadata": {},
   "source": [
    "# Task 3: Summarize the Data\n",
    "For each feature in the dataset, calculate and display:  \n",
    "**mean  \n",
    "minimum  \n",
    "maximum  \n",
    "standard deviation  \n",
    "median**  "
   ]
  },
  {
   "cell_type": "code",
   "execution_count": 51,
   "id": "b1894b6f",
   "metadata": {},
   "outputs": [
    {
     "data": {
      "text/plain": [
       "np.float64(5.84)"
      ]
     },
     "execution_count": 51,
     "metadata": {},
     "output_type": "execute_result"
    }
   ],
   "source": [
    "# Calculate the mean of the features\n",
    "def iris_mean(dataset, feature_number):\n",
    "    # Count the number of samples\n",
    "    count = len(dataset)\n",
    "    \n",
    "    total_feature_val = 0\n",
    "    \n",
    "    # Loop through each sample and add the value of a selected feature to the total_feature_val\n",
    "    for sample in dataset:\n",
    "        total_feature_val += sample[feature_number]\n",
    "    \n",
    "    # Calculate the mean of the feature\n",
    "    mean = total_feature_val / count\n",
    "    \n",
    "    # Round the mean to the second decimel place after the dot\n",
    "    mean = round(mean,2)\n",
    "    \n",
    "    return(mean)"
   ]
  },
  {
   "cell_type": "code",
   "execution_count": 53,
   "id": "5b44d9bd",
   "metadata": {},
   "outputs": [
    {
     "name": "stdout",
     "output_type": "stream",
     "text": [
      "\n",
      "sepal length (cm): 5.84\n",
      "sepal width (cm): 3.06\n",
      "petal length (cm): 3.76\n",
      "petal width (cm): 1.2\n",
      "\n"
     ]
    }
   ],
   "source": [
    "sepal_length = iris_mean(iris.data, 0)\n",
    "sepal_width = iris_mean(iris.data, 1)\n",
    "petal_lenght = iris_mean(iris.data, 2)\n",
    "petal_width = iris_mean(iris.data, 3)\n",
    "\n",
    "print(\n",
    "    f\"\"\"\n",
    "sepal length (cm): {sepal_length}\n",
    "sepal width (cm): {sepal_width}\n",
    "petal length (cm): {petal_lenght}\n",
    "petal width (cm): {petal_width}\n",
    "\"\"\")"
   ]
  },
  {
   "cell_type": "code",
   "execution_count": 70,
   "id": "920bc4be",
   "metadata": {},
   "outputs": [],
   "source": [
    "# Separate data for each feature and convert it to numpy array\n",
    "def separate_features(dataset, feature_number):\n",
    "    \n",
    "    # Separate a feature\n",
    "    feature_data = [int(sample[feature_number]) for sample in dataset]\n",
    "    \n",
    "    # Convert the integer list to numpy array\n",
    "    feature_data = np.array(feature_data)\n",
    "    \n",
    "    return(feature_data)"
   ]
  },
  {
   "cell_type": "code",
   "execution_count": 71,
   "id": "f4e84c62",
   "metadata": {},
   "outputs": [],
   "source": [
    "sepal_length_data = separate_features(iris.data, 0)\n",
    "sepal_width_data = separate_features(iris.data, 1)\n",
    "petal_lenght_data = separate_features(iris.data, 2)\n",
    "petal_width_data = separate_features(iris.data, 3)"
   ]
  },
  {
   "cell_type": "code",
   "execution_count": 74,
   "id": "997774a4",
   "metadata": {},
   "outputs": [
    {
     "name": "stdout",
     "output_type": "stream",
     "text": [
      "\n",
      "Standard deviation of sepal length (cm): 0.839\n",
      "Standard deviation of sepal width (cm): 0.531\n",
      "Standard deviation of petal length (cm): 1.766\n",
      "Standard deviation of petal width (cm): 0.712\n",
      "\n"
     ]
    }
   ],
   "source": [
    "# Calculate standard deviations of each dataset using the inherent numpy.array function sdev\n",
    "sdt_sepal_length = round(sepal_length_data.std(), 3)\n",
    "sdt_sepal_width = round(sepal_width_data.std(), 3)\n",
    "sdt_petal_lenght = round(petal_lenght_data.std(), 3)\n",
    "sdt_petal_width = round(petal_width_data.std(), 3)\n",
    "\n",
    "print(\n",
    "    f\"\"\"\n",
    "Standard deviation of sepal length (cm): {sdt_sepal_length}\n",
    "Standard deviation of sepal width (cm): {sdt_sepal_width}\n",
    "Standard deviation of petal length (cm): {sdt_petal_lenght}\n",
    "Standard deviation of petal width (cm): {sdt_petal_width}\n",
    "\"\"\")"
   ]
  },
  {
   "cell_type": "code",
   "execution_count": 75,
   "id": "f0b4946f",
   "metadata": {},
   "outputs": [
    {
     "name": "stdout",
     "output_type": "stream",
     "text": [
      "\n",
      "Maximum of sepal length (cm): 7\n",
      "Maximum of sepal width (cm): 4\n",
      "Maximum of petal length (cm): 6\n",
      "Maximum of petal width (cm): 2\n",
      "\n"
     ]
    }
   ],
   "source": [
    "# Calculate maximum of each dataset using the inherent numpy.array function max\n",
    "max_sepal_length = sepal_length_data.max()\n",
    "max_sepal_width = sepal_width_data.max()\n",
    "max_petal_lenght = petal_lenght_data.max()\n",
    "max_petal_width = petal_width_data.max()\n",
    "\n",
    "print(\n",
    "    f\"\"\"\n",
    "Maximum of sepal length (cm): {max_sepal_length}\n",
    "Maximum of sepal width (cm): {max_sepal_width}\n",
    "Maximum of petal length (cm): {max_petal_lenght}\n",
    "Maximum of petal width (cm): {max_petal_width}\n",
    "\"\"\")"
   ]
  },
  {
   "cell_type": "code",
   "execution_count": 76,
   "id": "e20160d5",
   "metadata": {},
   "outputs": [
    {
     "name": "stdout",
     "output_type": "stream",
     "text": [
      "\n",
      "Minimum of sepal length (cm): 4\n",
      "Minimum of sepal width (cm): 2\n",
      "Minimum of petal length (cm): 1\n",
      "Minimum of petal width (cm): 0\n",
      "\n"
     ]
    }
   ],
   "source": [
    "# Calculate minimum of each dataset using the inherent numpy.array function min\n",
    "min_sepal_length = sepal_length_data.min()\n",
    "min_sepal_width = sepal_width_data.min()\n",
    "min_petal_lenght = petal_lenght_data.min()\n",
    "min_petal_width = petal_width_data.min()\n",
    "\n",
    "print(\n",
    "    f\"\"\"\n",
    "Minimum of sepal length (cm): {min_sepal_length}\n",
    "Minimum of sepal width (cm): {min_sepal_width}\n",
    "Minimum of petal length (cm): {min_petal_lenght}\n",
    "Minimum of petal width (cm): {min_petal_width}\n",
    "\"\"\")"
   ]
  },
  {
   "cell_type": "code",
   "execution_count": 80,
   "id": "bb50315e",
   "metadata": {},
   "outputs": [
    {
     "name": "stdout",
     "output_type": "stream",
     "text": [
      "\n",
      "Median of sepal length (cm): 5.0\n",
      "Median of sepal width (cm): 3.0\n",
      "Median of petal length (cm): 4.0\n",
      "Median of petal width (cm): 1.0\n",
      "\n"
     ]
    }
   ],
   "source": [
    "# Calculate median of each dataset using the inherent numpy.array function median\n",
    "median_sepal_length = np.median(sepal_length_data)\n",
    "median_sepal_width = np.median(sepal_width_data)\n",
    "median_petal_lenght = np.median(petal_lenght_data)\n",
    "median_petal_width = np.median(petal_width_data)\n",
    "\n",
    "print(\n",
    "    f\"\"\"\n",
    "Median of sepal length (cm): {median_sepal_length}\n",
    "Median of sepal width (cm): {median_sepal_width}\n",
    "Median of petal length (cm): {median_petal_lenght}\n",
    "Median of petal width (cm): {median_petal_width}\n",
    "\"\"\")"
   ]
  },
  {
   "cell_type": "code",
   "execution_count": null,
   "id": "42fa85e5",
   "metadata": {},
   "outputs": [],
   "source": []
  }
 ],
 "metadata": {
  "kernelspec": {
   "display_name": "podn_venv",
   "language": "python",
   "name": "podn_venv"
  },
  "language_info": {
   "codemirror_mode": {
    "name": "ipython",
    "version": 3
   },
   "file_extension": ".py",
   "mimetype": "text/x-python",
   "name": "python",
   "nbconvert_exporter": "python",
   "pygments_lexer": "ipython3",
   "version": "3.12.3"
  }
 },
 "nbformat": 4,
 "nbformat_minor": 5
}
